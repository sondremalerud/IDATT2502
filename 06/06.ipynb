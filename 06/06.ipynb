{
 "cells": [
  {
   "cell_type": "code",
   "execution_count": 8,
   "metadata": {},
   "outputs": [
    {
     "name": "stdout",
     "output_type": "stream",
     "text": [
      "(8416, 117)\n",
      "(8416, 10)\n",
      "['odor_FOUL' 'odor_NONE' 'gill-size_NARROW' 'gill-color_BUFF'\n",
      " 'stalk-surface-above-ring_SILKY' 'stalk-surface-below-ring_SILKY'\n",
      " 'ring-type_LARGE' 'ring-type_PENDANT' 'spore-print-color_BROWN'\n",
      " 'spore-print-color_CHOCOLATE']\n"
     ]
    }
   ],
   "source": [
    "import matplotlib.pyplot as plt \n",
    "import pandas as pd\n",
    "import numpy as np\n",
    "from sklearn.feature_selection import SelectKBest\n",
    "from sklearn.feature_selection import chi2\n",
    "\n",
    "data = pd.read_csv('./data/mushroom/expanded')\n",
    "data\n",
    "y = pd.get_dummies(data.pop(\"poisonous\"))\n",
    "X = pd.get_dummies(data)\n",
    "\n",
    "print(X.shape)\n",
    "\n",
    "skb = SelectKBest(chi2, k=10)\n",
    "skb.fit(X, y)\n",
    "X_new = skb.transform(X)\n",
    "\n",
    "# Shape after selected features\n",
    "print(X_new.shape)\n",
    "\n",
    "# Most discriminitave features\n",
    "print(skb.get_feature_names_out())"
   ]
  },
  {
   "cell_type": "code",
   "execution_count": 80,
   "metadata": {},
   "outputs": [
    {
     "name": "stdout",
     "output_type": "stream",
     "text": [
      "Original space: (8416, 117)\n",
      "PCA space: (8416, 3)\n",
      "Explained Variance Ratio: [0.16301574 0.13562751 0.10468385]\n",
      "Combinations of features that explains the most variance (PC-1) in the dataset\n",
      "['stalk-root_?' 'stalk-surface-above-ring_SILKY' 'spore-print-color_WHITE'\n",
      " 'gill-color_BUFF' 'bruises_NO']\n"
     ]
    }
   ],
   "source": [
    "from sklearn import decomposition\n",
    "\n",
    "#reduces features to a new set of uncorrelated variables in 3d space (n_components=3)\n",
    "print(\"Original space:\",X.shape)\n",
    "pca = decomposition.PCA(n_components=3)\n",
    "pca.fit(X) \n",
    "Xpca = pca.transform(X) #applies dimension reduction\n",
    "\n",
    "print(\"PCA space:\",Xpca.shape)\n",
    "print(\"Explained Variance Ratio:\", pca.explained_variance_ratio_)\n",
    "\n",
    "#print(X.columns) gives all dummy variable names\n",
    "print(\"Combinations of features that explains the most variance (PC-1) in the dataset\")\n",
    "print(f\"{X.columns[np.argsort(pca.components_[0])[-5:]].values}\")\n"
   ]
  },
  {
   "cell_type": "markdown",
   "metadata": {},
   "source": [
    "### Do you see any overlap between the PCA features and those obtained from feature selection?\n",
    "\n",
    "We se Stalk-surface-above-ring_SILKY and Gill-color_BUFF"
   ]
  },
  {
   "cell_type": "markdown",
   "metadata": {},
   "source": []
  }
 ],
 "metadata": {
  "kernelspec": {
   "display_name": "base",
   "language": "python",
   "name": "python3"
  },
  "language_info": {
   "codemirror_mode": {
    "name": "ipython",
    "version": 3
   },
   "file_extension": ".py",
   "mimetype": "text/x-python",
   "name": "python",
   "nbconvert_exporter": "python",
   "pygments_lexer": "ipython3",
   "version": "3.9.13"
  },
  "orig_nbformat": 4
 },
 "nbformat": 4,
 "nbformat_minor": 2
}
